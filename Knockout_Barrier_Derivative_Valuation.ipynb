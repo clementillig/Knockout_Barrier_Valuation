{
 "cells": [
  {
   "cell_type": "markdown",
   "id": "23abc4da-2f0e-42aa-a100-3f451328112e",
   "metadata": {},
   "source": [
    "# Variables"
   ]
  },
  {
   "cell_type": "code",
   "execution_count": 1,
   "id": "e64f2ee7-9e7b-46e6-a74e-0bce6378b212",
   "metadata": {},
   "outputs": [],
   "source": [
    "#Variables\n",
    "\n",
    "notional = 1000\n",
    "risk_free_rate = 0.036\n",
    "annual_volatility_of_GSPC = 0.15\n",
    "asset_correlation = 0\n",
    "#day_count_convention = ACT/365\n",
    "#random seed = 123 for Monte Carlo simulation\n",
    "\n",
    "#Dates\n",
    "import numpy as np\n",
    "import datetime\n",
    "\n",
    "T0 = datetime.date(2024,12,31)\n",
    "Maturity = datetime.date(2026,2,15)\n",
    "Observation_date1 = datetime.date(2025,6,2)\n",
    "Observation_date2 = datetime.date(2025,12,2)\n",
    "\n",
    "accrual_factors = []\n",
    "T1 = round((Observation_date1 - T0).days/365,2)\n",
    "T2 = round((Observation_date2 - T0).days/365,2)\n",
    "T3 = round((Maturity - T0).days/365,2)\n",
    "accrual_factors.append(T1)\n",
    "accrual_factors.append(T2)\n",
    "accrual_factors.append(T3)\n",
    "\n",
    "#building the discounting curve\n",
    "discounting_curve = []\n",
    "for accrual_factor in accrual_factors:\n",
    "    discounting_curve.append(np.exp(-risk_free_rate*accrual_factor))\n",
    "#Underlyings\n",
    "\n",
    "#S&P 500 Ticker : GSPC\n",
    "#€STR modelled as one factor short rate process\n",
    "S0 = 5881.63\n",
    "r0 = 0.029\n",
    "\n",
    "#Barriers\n",
    "\n",
    "BS = 0.95*S0\n",
    "Br = 0.95*r0\n",
    "\n",
    "#short_rate_model_parameters\n",
    "\n",
    "kappa = 0.5602\n",
    "theta = 0.0432\n",
    "#I made the assumption rate volatility was annual as well\n",
    "annual_volatility_of_ESTR = 0.0092"
   ]
  },
  {
   "cell_type": "markdown",
   "id": "7506d1ba-c2b0-4047-8baa-cb1102d7af6b",
   "metadata": {},
   "source": [
    "Our valuation has multiple future dates influencing payoff, meaning a classic Black Scholes to estimate future price of the equity underlying doesn't fit. We need to use a path dependant method, so we use the Euler-Maruyama method. risk free rate is supposed constant. volatility is supposed constant. equity price is log normaly distributed."
   ]
  },
  {
   "cell_type": "code",
   "execution_count": 2,
   "id": "1f875623-b307-4edb-883d-bb212f6d122a",
   "metadata": {},
   "outputs": [
    {
     "name": "stdout",
     "output_type": "stream",
     "text": [
      "2025-06-02 : 104\n",
      "2025-12-02 : 231\n",
      "2026-02-13 : 281\n"
     ]
    }
   ],
   "source": [
    "#daily time step\n",
    "import numpy as np\n",
    "\n",
    "US_market_closed = [\n",
    "    '2025-01-01', '2025-01-20', '2025-02-17', '2025-04-18',\n",
    "    '2025-05-26', '2025-06-19', '2025-07-04', '2025-09-01',\n",
    "    '2025-11-27', '2025-12-25', '2026-01-01', '2026-01-19'\n",
    "]\n",
    "time_steps = np.busday_count(T0, Maturity, holidays=US_market_closed)\n",
    "#I will still need to know the actual dates for T1 and T2\n",
    "#15 Feb 2026 is actually a sunday so we take 13 Feb 2026 instead as maturity\n",
    "for i in range(time_steps):\n",
    "    date_i = np.busday_offset(T0, i, roll='forward', holidays=US_market_closed)\n",
    "    if date_i == np.datetime64('2025-06-02') or date_i == np.datetime64('2025-12-02') or date_i == np.datetime64('2026-02-13'):\n",
    "        print(f\"{date_i} : {i}\")\n",
    "#Finally the Monte Carlo Simulation\n",
    "delta_t = T3 / time_steps\n",
    "np.random.seed(123)\n",
    "Z = np.random.standard_normal((100_000, time_steps + 1))\n",
    "#initializing equity prices\n",
    "equity_prices = np.zeros((100_000, time_steps + 1))\n",
    "equity_prices[:, 0] = S0 \n",
    "for i in range(time_steps):\n",
    "    equity_prices[:, i + 1] = equity_prices[:, i] * np.exp((risk_free_rate - 0.5 * annual_volatility_of_GSPC**2) * delta_t  + annual_volatility_of_GSPC * np.sqrt(delta_t) *  Z[:,i])\n"
   ]
  },
  {
   "cell_type": "markdown",
   "id": "ed9245da-2c3b-4fb6-997b-9cc167e70ea4",
   "metadata": {},
   "source": [
    "We use a Hull White as suggested for future ESTR rates computation. We also use a Euler Maruyama method to fit the path dependancy requirements. Volatility is supposed constant. theta is supposed constant. kappa is supposed constant. the time_steps have been adjusted for S&P trading days, which are a bit different for €STR, but let's assume US and EU market open on the same day for simplicity."
   ]
  },
  {
   "cell_type": "code",
   "execution_count": 3,
   "id": "bc76f44d-802d-4bce-bcae-c39b769adb57",
   "metadata": {},
   "outputs": [],
   "source": [
    "ESTR_rates = np.zeros((100_000, time_steps + 1))\n",
    "ESTR_rates[:, 0] = r0\n",
    "for i in range(time_steps):\n",
    "    ESTR_rates[:, i+1] = ESTR_rates[:, i] + (theta - kappa * ESTR_rates[:, i]) * delta_t + annual_volatility_of_ESTR * np.sqrt(delta_t) * Z[:,i]\n",
    "    "
   ]
  },
  {
   "cell_type": "markdown",
   "id": "0ed4b3e1-99c2-4351-97f4-798e3229c8c5",
   "metadata": {},
   "source": [
    "# Payoff Computation"
   ]
  },
  {
   "cell_type": "code",
   "execution_count": 4,
   "id": "2751189e-7c87-41d0-ba6d-3e3a46a56f98",
   "metadata": {},
   "outputs": [
    {
     "name": "stdout",
     "output_type": "stream",
     "text": [
      "959.65\n"
     ]
    }
   ],
   "source": [
    "payoffs = np.zeros(100_000)\n",
    "for i in range(100_000):\n",
    "    #Observation date 1 Check (observation date is index 104)\n",
    "    if equity_prices[i, 104] >= BS and ESTR_rates[i, 104] >= Br:\n",
    "        payoffs[i] = discounting_curve[0] * notional\n",
    "        continue\n",
    "\n",
    "    #Observation date 2 Check (observation date is index 231)\n",
    "    elif equity_prices[i, 231] >= BS and ESTR_rates[i, 231] >= Br: \n",
    "        payoffs[i] = discounting_curve[1] * notional\n",
    "        continue\n",
    "\n",
    "    #Maturity Check (index is 281)\n",
    "    elif equity_prices[i, 281] >= BS and ESTR_rates[i, 281] >= Br: \n",
    "        payoffs[i] = discounting_curve[2] * notional * 1.15\n",
    "        continue\n",
    "    else:\n",
    "        payoffs[i] = discounting_curve[2] * min(equity_prices[i, 281] / S0, ESTR_rates[i, 281] / r0) * notional\n",
    "\n",
    "#Present value of payoff\n",
    "Present_value_of_structured_product = np.mean(payoffs)\n",
    "print(round(Present_value_of_structured_product,2))"
   ]
  },
  {
   "cell_type": "markdown",
   "id": "a66fdc87-4b3d-4ff5-83fa-fea7c5ab4814",
   "metadata": {},
   "source": [
    "Histogram-plot of the undiscounted payoffs from the simulations.\n",
    "\n",
    "# Undiscounted payoff computation"
   ]
  },
  {
   "cell_type": "code",
   "execution_count": 5,
   "id": "eb54b447-2bc9-41c2-8fcb-9f015a319f26",
   "metadata": {},
   "outputs": [
    {
     "data": {
      "image/png": "[encoded data removed]",
      "text/plain": [
       "<Figure size 1000x600 with 1 Axes>"
      ]
     },
     "metadata": {},
     "output_type": "display_data"
    }
   ],
   "source": [
    "undiscounted_payoffs = np.zeros(100_000)\n",
    "for i in range(100_000):\n",
    "    #Observation date 1 Check (observation date is index 104)\n",
    "    if equity_prices[i, 104] >= BS and ESTR_rates[i, 104] >= Br:\n",
    "        undiscounted_payoffs[i] = notional\n",
    "        continue\n",
    "\n",
    "    #Observation date 2 Check (observation date is index 231)\n",
    "    elif equity_prices[i, 231] >= BS and ESTR_rates[i, 231] >= Br: \n",
    "        undiscounted_payoffs[i] = notional\n",
    "        continue\n",
    "\n",
    "    #Maturity Check (index is 281)\n",
    "    elif equity_prices[i, 281] >= BS and ESTR_rates[i, 281] >= Br: \n",
    "        undiscounted_payoffs[i] = notional * 1.15\n",
    "        continue\n",
    "    else:\n",
    "        undiscounted_payoffs[i] = min(equity_prices[i, 281] / S0, ESTR_rates[i, 281] / r0) * notional\n",
    "\n",
    "import matplotlib.pyplot as plt\n",
    "\n",
    "plt.figure(figsize=(10, 6))\n",
    "plt.hist(undiscounted_payoffs, color='skyblue', edgecolor='black')\n",
    "plt.title(\"Histogram of Undiscounted Payoffs\")\n",
    "plt.xlabel(\"Payoff\")\n",
    "plt.ylabel(\"Frequency\")\n",
    "plt.grid(True)\n",
    "plt.show()"
   ]
  },
  {
   "cell_type": "markdown",
   "id": "db8f298d-8088-4749-82a8-199fc1c4528f",
   "metadata": {},
   "source": [
    "In the valuation above, most financial data were provided, but realistically, they are not provided by the termsheet we have to source them ourselves so here is a brief example for the stock volatility"
   ]
  },
  {
   "cell_type": "code",
   "execution_count": 6,
   "id": "f6d2cded-5754-4902-a3e6-cb1f79b37301",
   "metadata": {},
   "outputs": [
    {
     "name": "stdout",
     "output_type": "stream",
     "text": [
      "YF.download() has changed argument auto_adjust default to True\n"
     ]
    },
    {
     "name": "stderr",
     "output_type": "stream",
     "text": [
      "[*********************100%***********************]  1 of 1 completed"
     ]
    },
    {
     "name": "stdout",
     "output_type": "stream",
     "text": [
      "Price             Close         High          Low         Open      Volume\n",
      "Ticker            ^GSPC        ^GSPC        ^GSPC        ^GSPC       ^GSPC\n",
      "Date                                                                      \n",
      "2024-01-02  4742.830078  4754.330078  4722.669922  4745.200195  3743050000\n",
      "2024-01-03  4704.810059  4729.290039  4699.709961  4725.069824  3950760000\n",
      "2024-01-04  4688.680176  4726.779785  4687.529785  4697.419922  3715480000\n",
      "2024-01-05  4697.240234  4721.490234  4682.109863  4690.569824  3844370000\n",
      "2024-01-08  4763.540039  4764.540039  4699.819824  4703.700195  3742320000\n",
      "\n",
      "0.13 Which means we have a volatility of 13%\n"
     ]
    },
    {
     "name": "stderr",
     "output_type": "stream",
     "text": [
      "\n"
     ]
    }
   ],
   "source": [
    "import yfinance as yf\n",
    "\n",
    "start = datetime.datetime(2024,1,1)\n",
    "end = datetime.datetime(2024,12,31)\n",
    "\n",
    "\n",
    "sp500_data = yf.download('^GSPC', start=start, end=end)\n",
    "print(sp500_data.head())\n",
    "prices = sp500_data['Close'].values\n",
    "returns = []\n",
    "for i in range(1, len(prices)):\n",
    "    previous_price = prices[i - 1]\n",
    "    current_price = prices[i]\n",
    "    daily_return = (current_price - previous_price) / previous_price\n",
    "    returns.append(daily_return)\n",
    "\n",
    "daily_std = np.std(returns)\n",
    "annual_volatility = daily_std * np.sqrt(252)\n",
    "print(f\"\\n{annual_volatility:.2f} Which means we have a volatility of 13% for the S&P500 in 2024\")"
   ]
  },
  {
   "cell_type": "markdown",
   "id": "a58f618d-c9e3-4f35-8c77-4c3442dc73b1",
   "metadata": {},
   "source": [
    "Observation : On the undiscounted Payoff graph, we see an overwhelming amount of payoffs at 1 000, meaning most paths led to an early redemption. \\\n",
    "I believe that's because of the ESTR rates Hull White model under constant parameters. I have noticed after printing a few of my paths that rate at maturity > r0 100% of the time, which could not be a random phenomenon. \\\n",
    "And Indeed, I found that, the drift is converging toward theta / kappa, which, in our example, is 7.7%, high above our barrier for the rate. Which means our rates are always above the knockout barrier's threshold."
   ]
  }
 ],
 "metadata": {
  "kernelspec": {
   "display_name": "Python 3 (ipykernel)",
   "language": "python",
   "name": "python3"
  },
  "language_info": {
   "codemirror_mode": {
    "name": "ipython",
    "version": 3
   },
   "file_extension": ".py",
   "mimetype": "text/x-python",
   "name": "python",
   "nbconvert_exporter": "python",
   "pygments_lexer": "ipython3",
   "version": "3.11.5"
  }
 },
 "nbformat": 4,
 "nbformat_minor": 5
}
